{
 "cells": [
  {
   "cell_type": "markdown",
   "metadata": {},
   "source": [
    "\n",
    "#  Text Classification"
   ]
  },
  {
   "cell_type": "markdown",
   "metadata": {},
   "source": [
    "###### <font color=Blue>Import all the libraries reuired for this Assignment : request,pandas,beautifulsoup,sklearn,numpy</font>"
   ]
  },
  {
   "cell_type": "code",
   "execution_count": 1,
   "metadata": {},
   "outputs": [],
   "source": [
    "import urllib.request\n",
    "import bs4\n",
    "import pandas as pd\n",
    "import numpy as np\n",
    "from sklearn.model_selection import train_test_split\n",
    "from sklearn.preprocessing import LabelEncoder\n",
    "from sklearn.feature_extraction.text import CountVectorizer\n",
    "from sklearn.feature_extraction.text import TfidfVectorizer\n",
    "from sklearn.feature_extraction.text import TfidfTransformer\n",
    "from sklearn.model_selection import train_test_split\n",
    "from sklearn.naive_bayes import MultinomialNB\n",
    "from sklearn.metrics import accuracy_score\n",
    "from sklearn.linear_model import LogisticRegression\n",
    "from sklearn.tree import DecisionTreeClassifier\n",
    "from sklearn.neighbors import KNeighborsClassifier\n",
    "from sklearn.svm import LinearSVC\n",
    "from sklearn.ensemble import RandomForestClassifier\n",
    "from sklearn.model_selection import cross_val_score\n",
    "from sklearn.metrics import confusion_matrix\n",
    "from sklearn import metrics\n",
    "import seaborn as sns\n",
    "from sklearn.feature_selection import chi2\n",
    "\n",
    "\n",
    "\n",
    "\n",
    "\n",
    "\n"
   ]
  },
  {
   "cell_type": "markdown",
   "metadata": {},
   "source": [
    "# TASK 1 : Select two Review Categories:1- BARS,2-Health and medical"
   ]
  },
  {
   "cell_type": "markdown",
   "metadata": {},
   "source": [
    "###  Find,read and extract  all the sublinks of Review Category \"Bars\" and store them in a list\n",
    "#### <font color =blue> STEP 1: In the below block we are taking the main link http://mlg.ucd.ie/modules/yalp/ ,then extract the html </font>\n",
    "#### <font color =blue>  STEP 2: Review_category0 is a list which stores the extracted links  </font>\n",
    "#### <font color =blue> STEP 3: find all the sublinks with <a href tag and store in text </font>\n",
    "#### <font color =blue> STEP 4: Append the 1st set of sublink which is category \"Bars\" to the list. </font>\n",
    "#### <font color =blue> STEP 5: Append it to the main Link </font>\n",
    "#### <font color =blue> STEP 6: Run the loop again and find all the links which contains the actual reviews inside sublink \"BARS\" and append the sublinks containing reviews to the list. </font>\n"
   ]
  },
  {
   "cell_type": "code",
   "execution_count": 2,
   "metadata": {},
   "outputs": [
    {
     "name": "stdout",
     "output_type": "stream",
     "text": [
      "68\n"
     ]
    }
   ],
   "source": [
    "ll = \"http://mlg.ucd.ie/modules/yalp/\"\n",
    "for i in range(2):\n",
    "    read_link = urllib.request.urlopen(ll) #read the main link\n",
    "    extract_html = read_link.read().decode()#extract the link\n",
    "    Review_category0 =[]#deine list to store sublinks of category \"bars\"\n",
    "    parser = bs4.BeautifulSoup(extract_html,\"html.parser\")\n",
    "    for match in parser.find_all('a'):\n",
    "        text = match.get('href')#find all links in the tag <a href\n",
    "        Review_category0.append(text)#append sublink with main link\n",
    "    ll= ll+Review_category0[1]#contenate with the link and run loop till all the sublinks in the \"bar\" Category are read.\n",
    "print(len(Review_category0))"
   ]
  },
  {
   "cell_type": "markdown",
   "metadata": {},
   "source": [
    "###  Find,read and extract  all the sublinks of Review Category \"Health and medical \" and store them in a list\n",
    "#### <font color =blue> STEP 1: In the below block we are taking the main link http://mlg.ucd.ie/modules/yalp/ ,then extract the html </font>\n",
    "#### <font color =blue>  STEP 2: Review_category1 is a list which stores the extracted links  </font>\n",
    "#### <font color =blue> STEP 3: find all the sublinks with <a href tag and store in text </font>\n",
    "#### <font color =blue> STEP 4: Append the 1st set of sublink which is category \"Health and medical\" to the list. </font>\n",
    "#### <font color =blue> STEP 5: Append it to the main Link </font>\n",
    "#### <font color =blue> STEP 6: Run the loop again and find all the links which contains the actual reviews inside sublink \"Health and medical\" and append the sublinks containing reviews to the list. </font>\n"
   ]
  },
  {
   "cell_type": "code",
   "execution_count": 3,
   "metadata": {},
   "outputs": [
    {
     "name": "stdout",
     "output_type": "stream",
     "text": [
      "122\n"
     ]
    }
   ],
   "source": [
    "lls = \"http://mlg.ucd.ie/modules/yalp/\"\n",
    "for i in range(2):\n",
    "    read_link = urllib.request.urlopen(lls) #read the main link\n",
    "    extract_html = read_link.read().decode()#extract the link\n",
    "    Review_category1 =[]#define list to store sublinks of category \"Health and medical\"\n",
    "    parser = bs4.BeautifulSoup(extract_html,\"html.parser\")\n",
    "    for match in parser.find_all('a'):\n",
    "        text = match.get('href')#find all links in the tag <a href\n",
    "        Review_category1.append(text)#append sublink with main link\n",
    "    lls= lls+Review_category1[2]#contenate with the link and run loop till all the sublinks in the \"Health and medical\" Category are read\n",
    "print(len(Review_category1))"
   ]
  },
  {
   "cell_type": "markdown",
   "metadata": {},
   "source": [
    "###  In the below block all the sublinks from \"Bars\" category and \"Health and medical\" are concatenated to the main link\n",
    "#### <font color=blue> Bars category  links are stored in list Link_sublinksCat0</font>\n",
    "#### <font color=blue>Health and medical category links are stored in list Link_sublinksCat2</font>"
   ]
  },
  {
   "cell_type": "code",
   "execution_count": 4,
   "metadata": {},
   "outputs": [],
   "source": [
    "string = \"http://mlg.ucd.ie/modules/yalp/\"\n",
    "Link_sublinksCat0 =[]# define a list to store all links of bars category\n",
    "for i  in range(len(Review_category0)):\n",
    "    Link_sublinksCat0.append(string+ Review_category0[i])#concatenate and append all links with reviews from bars category to main link\n",
    "\n",
    "Link_sublinksCat2 =[]# define a list to store all links of Health and medical category\n",
    "for i  in range(len(Review_category1)):\n",
    "    Link_sublinksCat2.append(string+ Review_category1[i])#concatenate and append all links with reviews from Health and medical  category to main link\n"
   ]
  },
  {
   "cell_type": "markdown",
   "metadata": {},
   "source": [
    "#### <font color=blue>Review category sublinklist  from both the categories are stored in one list TwocategoriesList</font>\n",
    "#### <font color=blue>TwocategoriesList = contains all the reviews from both the categories</font>"
   ]
  },
  {
   "cell_type": "code",
   "execution_count": 5,
   "metadata": {},
   "outputs": [
    {
     "name": "stdout",
     "output_type": "stream",
     "text": [
      "2\n"
     ]
    }
   ],
   "source": [
    "TwocategoriesList =[Link_sublinksCat0]+[Link_sublinksCat2]# Link_sublinksCat0 and Link_sublinksCat2 list are added as sublist in TwocategoriesList as main list \n",
    "print((len(TwocategoriesList)))"
   ]
  },
  {
   "cell_type": "code",
   "execution_count": 6,
   "metadata": {},
   "outputs": [
    {
     "data": {
      "text/plain": [
       "[['http://mlg.ucd.ie/modules/yalp/reviews_lU0OdZrzNmLuU7SGvONYiQ.html',\n",
       "  'http://mlg.ucd.ie/modules/yalp/reviews_k2a0B5nlT3V9zzVrpgcGeQ.html',\n",
       "  'http://mlg.ucd.ie/modules/yalp/reviews_xxelcbat6roueQvnk3TRmA.html',\n",
       "  'http://mlg.ucd.ie/modules/yalp/reviews_hFT3HuxVZJb1uYEsYfp-0A.html',\n",
       "  'http://mlg.ucd.ie/modules/yalp/reviews_PMH637woNo9ojZWxPLVULw.html',\n",
       "  'http://mlg.ucd.ie/modules/yalp/reviews_KBxus2mJ-AB97eYnIX7Srg.html',\n",
       "  'http://mlg.ucd.ie/modules/yalp/reviews_PJerxJc0SN9h6hXlqSQc5w.html',\n",
       "  'http://mlg.ucd.ie/modules/yalp/reviews_iE2GBLT00db-qEHye-Jztg.html',\n",
       "  'http://mlg.ucd.ie/modules/yalp/reviews_NJ4S3JX56JEZGWlAfpF9kw.html',\n",
       "  'http://mlg.ucd.ie/modules/yalp/reviews_mtWFEF2yTAALgBKZPuxkGw.html',\n",
       "  'http://mlg.ucd.ie/modules/yalp/reviews_-n27mJ_jQWGCuIukTvg9Mg.html',\n",
       "  'http://mlg.ucd.ie/modules/yalp/reviews_JhRxDdmZSGDG_u7cGxaYrw.html',\n",
       "  'http://mlg.ucd.ie/modules/yalp/reviews_ftqncUx1y6Otpvz78H9WhQ.html',\n",
       "  'http://mlg.ucd.ie/modules/yalp/reviews_e79I3sSDUCrsfpKPvwnAsg.html',\n",
       "  'http://mlg.ucd.ie/modules/yalp/reviews_gldPX9ANF5Nic0N7igu2og.html',\n",
       "  'http://mlg.ucd.ie/modules/yalp/reviews_bjwK290Ln0FCE-XEBoOMig.html',\n",
       "  'http://mlg.ucd.ie/modules/yalp/reviews_EAwh1OmG6t6p3nRaZOW_AA.html',\n",
       "  'http://mlg.ucd.ie/modules/yalp/reviews_zJbG2W-mvEIBt2y56JhHRA.html',\n",
       "  'http://mlg.ucd.ie/modules/yalp/reviews_lLaX4U3_IfiWIFDqv78dcA.html',\n",
       "  'http://mlg.ucd.ie/modules/yalp/reviews_YIpwSFLkb1geFIXyqh62rQ.html',\n",
       "  'http://mlg.ucd.ie/modules/yalp/reviews_US0ZdkGe5Fv1lLczbKYJoA.html',\n",
       "  'http://mlg.ucd.ie/modules/yalp/reviews_smx4rjWRtbkE656F7fE7rA.html',\n",
       "  'http://mlg.ucd.ie/modules/yalp/reviews_uLnPW9K1yhNpgzvodCumbQ.html',\n",
       "  'http://mlg.ucd.ie/modules/yalp/reviews_VN5D_k5i2MLyliuGAiCOxQ.html',\n",
       "  'http://mlg.ucd.ie/modules/yalp/reviews_hsVjfLehMqpXk7DBmOUJJw.html',\n",
       "  'http://mlg.ucd.ie/modules/yalp/reviews_yB3v-Ad3ILCdw8Wpe4h3WQ.html',\n",
       "  'http://mlg.ucd.ie/modules/yalp/reviews_333W59XcrXZsJlnBAAx5mQ.html',\n",
       "  'http://mlg.ucd.ie/modules/yalp/reviews_yU_z2d0TnLBBFEEYMYhKJA.html',\n",
       "  'http://mlg.ucd.ie/modules/yalp/reviews_gtWaCpu7mgRR-839S9oGBQ.html',\n",
       "  'http://mlg.ucd.ie/modules/yalp/reviews_XFdS4GgrgFsuyyrQZp8jMw.html',\n",
       "  'http://mlg.ucd.ie/modules/yalp/reviews_MT-uG_MfMSJK5U7s_rL5Vw.html',\n",
       "  'http://mlg.ucd.ie/modules/yalp/reviews_FEDJzSlA34EJ8ypqMWgVew.html',\n",
       "  'http://mlg.ucd.ie/modules/yalp/reviews_rLMsz9ams_xrlX_weejhtQ.html',\n",
       "  'http://mlg.ucd.ie/modules/yalp/reviews_7hsi2ob7wOORBj5Pa2199Q.html',\n",
       "  'http://mlg.ucd.ie/modules/yalp/reviews_u4srHKh5fWAqhy4XMgjUBw.html',\n",
       "  'http://mlg.ucd.ie/modules/yalp/reviews_yGfmwUKrZG4O2eNXP2JS1g.html',\n",
       "  'http://mlg.ucd.ie/modules/yalp/reviews_7-Pb3DdCD39RJ4ZSxG_7-g.html',\n",
       "  'http://mlg.ucd.ie/modules/yalp/reviews_LYHMZOBRSAi_TR-5Xh-4pA.html',\n",
       "  'http://mlg.ucd.ie/modules/yalp/reviews_k5Xvh4-or82ilZBFMEw52g.html',\n",
       "  'http://mlg.ucd.ie/modules/yalp/reviews_F44RugAixD4yauHlTGXGug.html',\n",
       "  'http://mlg.ucd.ie/modules/yalp/reviews_ki32AcAoV8-iSb5zHsYpPQ.html',\n",
       "  'http://mlg.ucd.ie/modules/yalp/reviews_OhTsSYXoD4Poc14JrjIhBw.html',\n",
       "  'http://mlg.ucd.ie/modules/yalp/reviews_xiWmyJyTa7o1H6uUNH2dEw.html',\n",
       "  'http://mlg.ucd.ie/modules/yalp/reviews_BTGdhKfImIWo5VRFqPjqIA.html',\n",
       "  'http://mlg.ucd.ie/modules/yalp/reviews_uQBpqa5vqv_Dzcks9q9E7Q.html',\n",
       "  'http://mlg.ucd.ie/modules/yalp/reviews_RemaGokjnHrNVoOtW83oOA.html',\n",
       "  'http://mlg.ucd.ie/modules/yalp/reviews_OHlWeG019fqPbvYO5ZDEqg.html',\n",
       "  'http://mlg.ucd.ie/modules/yalp/reviews_lUzX5Prr8TfXeWRt94POBg.html',\n",
       "  'http://mlg.ucd.ie/modules/yalp/reviews_FN-5HISn0yi5GTM83Uy59g.html',\n",
       "  'http://mlg.ucd.ie/modules/yalp/reviews_GgocFk6T_aU0VCk8PLiSEQ.html',\n",
       "  'http://mlg.ucd.ie/modules/yalp/reviews_1AbuJiCPu-mOJUPjQIpuLw.html',\n",
       "  'http://mlg.ucd.ie/modules/yalp/reviews_r-AhKG-CrL0MSe11cfJzTA.html',\n",
       "  'http://mlg.ucd.ie/modules/yalp/reviews_qnZzSC4TKen19Gz9nyKCvw.html',\n",
       "  'http://mlg.ucd.ie/modules/yalp/reviews_DstNnjUe4RpBuKUqLdFzyQ.html',\n",
       "  'http://mlg.ucd.ie/modules/yalp/reviews_ffQkdyfXbNficwpXUL75wA.html',\n",
       "  'http://mlg.ucd.ie/modules/yalp/reviews_TLqA84CZi0T02XMnNe6GJg.html',\n",
       "  'http://mlg.ucd.ie/modules/yalp/reviews_TyZnv8aX1OJfBKoyuYgZLQ.html',\n",
       "  'http://mlg.ucd.ie/modules/yalp/reviews_TL49XUC6xZmuRCziurrPhg.html',\n",
       "  'http://mlg.ucd.ie/modules/yalp/reviews_1zbleOExOpyEA525GbRyqA.html',\n",
       "  'http://mlg.ucd.ie/modules/yalp/reviews_sOs9goJyHT5Ggu1hTsp3kg.html',\n",
       "  'http://mlg.ucd.ie/modules/yalp/reviews_rN3XnPL0hqE-7qBUfAbCTg.html',\n",
       "  'http://mlg.ucd.ie/modules/yalp/reviews_bJVVEhficUUHVL2zvtuJWg.html',\n",
       "  'http://mlg.ucd.ie/modules/yalp/reviews_-Bdw-5H5C4AYSMGnAvmnzw.html',\n",
       "  'http://mlg.ucd.ie/modules/yalp/reviews_o_HnpcNAXstV8v-VN3CoRg.html',\n",
       "  'http://mlg.ucd.ie/modules/yalp/reviews_qkNUFhCZurQCbaOpjF44IQ.html',\n",
       "  'http://mlg.ucd.ie/modules/yalp/reviews_cGtl3aOeXXSZ4xhWiDlV4A.html',\n",
       "  'http://mlg.ucd.ie/modules/yalp/reviews_SqL19z7A7LB91RkWWwWvnQ.html',\n",
       "  'http://mlg.ucd.ie/modules/yalp/reviews_ZQBn4sRfRlB97bXf-bF-Kg.html'],\n",
       " ['http://mlg.ucd.ie/modules/yalp/reviews_tI0-USBAFWXpQ9Es6gpKXg.html',\n",
       "  'http://mlg.ucd.ie/modules/yalp/reviews_z30sgua7-gO8eMfWT-ViTQ.html',\n",
       "  'http://mlg.ucd.ie/modules/yalp/reviews_V_DXV9qg7QtG1r58aUJOrQ.html',\n",
       "  'http://mlg.ucd.ie/modules/yalp/reviews_z40G19e_XZh_XML0-W2mKw.html',\n",
       "  'http://mlg.ucd.ie/modules/yalp/reviews_VSM4SB7yRHzXqwPv9JApFw.html',\n",
       "  'http://mlg.ucd.ie/modules/yalp/reviews_wrte8YYJtPQK4zccENm_Gw.html',\n",
       "  'http://mlg.ucd.ie/modules/yalp/reviews_ZUZBA9EBWfML5aSJmH7yvw.html',\n",
       "  'http://mlg.ucd.ie/modules/yalp/reviews_p36XSjsfgvEYE_lZHU4nrg.html',\n",
       "  'http://mlg.ucd.ie/modules/yalp/reviews_4QV9lsViwEHmy07Vqv99ew.html',\n",
       "  'http://mlg.ucd.ie/modules/yalp/reviews_p9xhVRcI2jHgwPH-OYJvFQ.html',\n",
       "  'http://mlg.ucd.ie/modules/yalp/reviews_sQqn2UXb9NqDruKmmBhvuw.html',\n",
       "  'http://mlg.ucd.ie/modules/yalp/reviews_NNNZFhecyADXs1yCq9GPaA.html',\n",
       "  'http://mlg.ucd.ie/modules/yalp/reviews_NVHuUK206x2E6KcJJX775g.html',\n",
       "  'http://mlg.ucd.ie/modules/yalp/reviews_FT5bvXUI_1pvVdPy2psJPQ.html',\n",
       "  'http://mlg.ucd.ie/modules/yalp/reviews_uC2l00w4_JDNepoaCv3afA.html',\n",
       "  'http://mlg.ucd.ie/modules/yalp/reviews_RKVINOHlNgivItzqEAc1mQ.html',\n",
       "  'http://mlg.ucd.ie/modules/yalp/reviews_eumrCpNIoSepFGiPqrX85Q.html',\n",
       "  'http://mlg.ucd.ie/modules/yalp/reviews_wipSpwLvMnDDaMwhLNj-1w.html',\n",
       "  'http://mlg.ucd.ie/modules/yalp/reviews_9SqXsbePo1M0xj_9KFAQqw.html',\n",
       "  'http://mlg.ucd.ie/modules/yalp/reviews_MrxA-fbbiBJIBl2569dTRg.html',\n",
       "  'http://mlg.ucd.ie/modules/yalp/reviews_JvUlnK9j47e7U3VtWwE6Rg.html',\n",
       "  'http://mlg.ucd.ie/modules/yalp/reviews_X-1UxWNtnFvqKWFyTs2TRw.html',\n",
       "  'http://mlg.ucd.ie/modules/yalp/reviews_IhPOQdaC0ASK36Z569fheQ.html',\n",
       "  'http://mlg.ucd.ie/modules/yalp/reviews_FUCJRACt-g0ACqL0u_1p-A.html',\n",
       "  'http://mlg.ucd.ie/modules/yalp/reviews__c0arL_K3WiN2UlOwNUoXQ.html',\n",
       "  'http://mlg.ucd.ie/modules/yalp/reviews_HsMeo9W71akGBYhY2XBFxg.html',\n",
       "  'http://mlg.ucd.ie/modules/yalp/reviews_S1N2QL9M_b03c1wUWVsXHA.html',\n",
       "  'http://mlg.ucd.ie/modules/yalp/reviews_0RTYIoUN7rtnNSCo7uEdSg.html',\n",
       "  'http://mlg.ucd.ie/modules/yalp/reviews_C5uWte569tr6pg9aNjXcJg.html',\n",
       "  'http://mlg.ucd.ie/modules/yalp/reviews_idJTf2K64vA6LypyTiKC-Q.html',\n",
       "  'http://mlg.ucd.ie/modules/yalp/reviews_T6zd-sjoKkPJ_jWDuurcWQ.html',\n",
       "  'http://mlg.ucd.ie/modules/yalp/reviews_8SCuTbcjv4pph3Cbmo-wDA.html',\n",
       "  'http://mlg.ucd.ie/modules/yalp/reviews_cnCCTB_UVZ4xrZ5UG2Fvgw.html',\n",
       "  'http://mlg.ucd.ie/modules/yalp/reviews_nUR9_N_dl9bQ0K-7bNLJpQ.html',\n",
       "  'http://mlg.ucd.ie/modules/yalp/reviews_efAitWV-gizH9lFQwvm9XQ.html',\n",
       "  'http://mlg.ucd.ie/modules/yalp/reviews_WrkOKBHkRxhBVpX8qu7zDA.html',\n",
       "  'http://mlg.ucd.ie/modules/yalp/reviews_XmbfbCSm-NmAvflusZJlIg.html',\n",
       "  'http://mlg.ucd.ie/modules/yalp/reviews_Gu4W3BSBajnljGYXQOclHw.html',\n",
       "  'http://mlg.ucd.ie/modules/yalp/reviews_ubC3XvGLxDi3QHlW2J1Q7w.html',\n",
       "  'http://mlg.ucd.ie/modules/yalp/reviews_2mINRT7Po-OOQvnurvoPeg.html',\n",
       "  'http://mlg.ucd.ie/modules/yalp/reviews_HBWJcqC0NSYs_q1awML8FA.html',\n",
       "  'http://mlg.ucd.ie/modules/yalp/reviews_sLOuVlFXdefItC3yMJ2ttg.html',\n",
       "  'http://mlg.ucd.ie/modules/yalp/reviews_Z3QHUXXUq3ek9iJFe5BQew.html',\n",
       "  'http://mlg.ucd.ie/modules/yalp/reviews_BOO8XZ5J8rLVGvOe4BnxNw.html',\n",
       "  'http://mlg.ucd.ie/modules/yalp/reviews_Vd1HOb0V8CvMH63nsT4NhQ.html',\n",
       "  'http://mlg.ucd.ie/modules/yalp/reviews_v__Y_SUaotEG0tKae5NjLQ.html',\n",
       "  'http://mlg.ucd.ie/modules/yalp/reviews_4uHJ0IcUJZU4RkmOZSiXKw.html',\n",
       "  'http://mlg.ucd.ie/modules/yalp/reviews_URlo_ACUzi05DpV_FsWl0Q.html',\n",
       "  'http://mlg.ucd.ie/modules/yalp/reviews_d4WbPFDGr_eQfb29H4UD6Q.html',\n",
       "  'http://mlg.ucd.ie/modules/yalp/reviews_Rq2rdq3Za9kfF-UE_x8VOA.html',\n",
       "  'http://mlg.ucd.ie/modules/yalp/reviews_IpaYzqptT9lbxXmft9zdZw.html',\n",
       "  'http://mlg.ucd.ie/modules/yalp/reviews_Il0YOKi4OPQVoHRIAlfeSg.html',\n",
       "  'http://mlg.ucd.ie/modules/yalp/reviews_SymVMYeaZ43FEsb-zpR1Mg.html',\n",
       "  'http://mlg.ucd.ie/modules/yalp/reviews_dRUGL1wNpxbr_I_N3FumsQ.html',\n",
       "  'http://mlg.ucd.ie/modules/yalp/reviews__JMIWY7O4SQ2gCJeDM5mRg.html',\n",
       "  'http://mlg.ucd.ie/modules/yalp/reviews_M1C-RK-wOKOm7EgvTA6qXg.html',\n",
       "  'http://mlg.ucd.ie/modules/yalp/reviews_Pre8gJoG16rRtCRb2UvVTQ.html',\n",
       "  'http://mlg.ucd.ie/modules/yalp/reviews_55VOvGFNYR0c72iEENfdag.html',\n",
       "  'http://mlg.ucd.ie/modules/yalp/reviews_k9aOBvsb2IrZ2UpDsZrnZw.html',\n",
       "  'http://mlg.ucd.ie/modules/yalp/reviews_hJznCjsZAAt0RmVuJhlMyQ.html',\n",
       "  'http://mlg.ucd.ie/modules/yalp/reviews_wV7wpc9uSZJy_OwPOdt4Dg.html',\n",
       "  'http://mlg.ucd.ie/modules/yalp/reviews_6TNxoaTubyTNJ07MjXNTbw.html',\n",
       "  'http://mlg.ucd.ie/modules/yalp/reviews_S4kKHiAwHZXzZmvgjcfE8Q.html',\n",
       "  'http://mlg.ucd.ie/modules/yalp/reviews_BScPYpeOrVmDl23vnDfxjA.html',\n",
       "  'http://mlg.ucd.ie/modules/yalp/reviews_epy45cNXz4n7xnSBxjLmPQ.html',\n",
       "  'http://mlg.ucd.ie/modules/yalp/reviews_GwO6xPKa2S-VOJdQSjWe1Q.html',\n",
       "  'http://mlg.ucd.ie/modules/yalp/reviews_gnmoot_IGqoK9v0QRmKYeQ.html',\n",
       "  'http://mlg.ucd.ie/modules/yalp/reviews_tzCFo5of-bekZOfN_ggNNA.html',\n",
       "  'http://mlg.ucd.ie/modules/yalp/reviews_sp2hvV6RBWm4J3s2GVArXg.html',\n",
       "  'http://mlg.ucd.ie/modules/yalp/reviews_T_BmGLVAMPF9mp_W3WkjJA.html',\n",
       "  'http://mlg.ucd.ie/modules/yalp/reviews_NOagRrSGzpIwkhOyBqfdPw.html',\n",
       "  'http://mlg.ucd.ie/modules/yalp/reviews_i0S3M_DMFS3W55bMKkVmaw.html',\n",
       "  'http://mlg.ucd.ie/modules/yalp/reviews_R1dvisSeKw27ti-LkHTASg.html',\n",
       "  'http://mlg.ucd.ie/modules/yalp/reviews_OwK7gDIzZXumpQiQ8Cnb2A.html',\n",
       "  'http://mlg.ucd.ie/modules/yalp/reviews_BiSpQCtl7LFikBbfJmqslA.html',\n",
       "  'http://mlg.ucd.ie/modules/yalp/reviews_Xe6TgtEdNXXkVo3NufocLA.html',\n",
       "  'http://mlg.ucd.ie/modules/yalp/reviews_1pt6_WfVJdpb0Uq6HYKhzw.html',\n",
       "  'http://mlg.ucd.ie/modules/yalp/reviews_ON9iLGxFDeQln4iAlO7gkA.html',\n",
       "  'http://mlg.ucd.ie/modules/yalp/reviews_GP3r9MZ2Pt9cR7UHrx9lbQ.html',\n",
       "  'http://mlg.ucd.ie/modules/yalp/reviews_x7yHLG5a38FGYnhcwylekw.html',\n",
       "  'http://mlg.ucd.ie/modules/yalp/reviews_KMGI7VvY9oacCsZKHAYIIw.html',\n",
       "  'http://mlg.ucd.ie/modules/yalp/reviews_htB_5GK6rLYynVnsS6eDlw.html',\n",
       "  'http://mlg.ucd.ie/modules/yalp/reviews_yZWrk_OwNKUebksmNvMFvQ.html',\n",
       "  'http://mlg.ucd.ie/modules/yalp/reviews_YWHxxcAkjDp0X0SPtHl78Q.html',\n",
       "  'http://mlg.ucd.ie/modules/yalp/reviews_hxerbQpXB1hnDAaQ9uXYVA.html',\n",
       "  'http://mlg.ucd.ie/modules/yalp/reviews_d5AFsS5BmfjVa32EP5XZtw.html',\n",
       "  'http://mlg.ucd.ie/modules/yalp/reviews_IDMkHKuwGmJCWv8V4lj8nQ.html',\n",
       "  'http://mlg.ucd.ie/modules/yalp/reviews_aIEfjonMB3daXlPDYTaucA.html',\n",
       "  'http://mlg.ucd.ie/modules/yalp/reviews_M497uyyzI4FkEptLTy7Ing.html',\n",
       "  'http://mlg.ucd.ie/modules/yalp/reviews_QexQyTSKXuJqYPtV3Xhgdg.html',\n",
       "  'http://mlg.ucd.ie/modules/yalp/reviews_KQKUVoZjYE56GsG7DY1CpA.html',\n",
       "  'http://mlg.ucd.ie/modules/yalp/reviews_5_ggKetOZfILWGuoIBvGAw.html',\n",
       "  'http://mlg.ucd.ie/modules/yalp/reviews_L6f2DKynvpUThYxXOND_Yw.html',\n",
       "  'http://mlg.ucd.ie/modules/yalp/reviews_A7jKgRVYQ_wCQjdGz8hd4Q.html',\n",
       "  'http://mlg.ucd.ie/modules/yalp/reviews_58QoAy7ggzj8ukeJ8YmKFw.html',\n",
       "  'http://mlg.ucd.ie/modules/yalp/reviews_TFt82fTODTFKPmRYycqTkw.html',\n",
       "  'http://mlg.ucd.ie/modules/yalp/reviews_NLzfI35ADqp259-rQLAVeg.html',\n",
       "  'http://mlg.ucd.ie/modules/yalp/reviews_h2FjTIv_U09fmy2xz8Pcpw.html',\n",
       "  'http://mlg.ucd.ie/modules/yalp/reviews_AhLksuV3T-QM3gZOVlUhDw.html',\n",
       "  'http://mlg.ucd.ie/modules/yalp/reviews_Rzr5s3EJVVxrvQNdQ0c9Xg.html',\n",
       "  'http://mlg.ucd.ie/modules/yalp/reviews_3rPEJXqLWjlcB2vk8f6Z6A.html',\n",
       "  'http://mlg.ucd.ie/modules/yalp/reviews_R7-Art-yi73tWaRTuXXH7w.html',\n",
       "  'http://mlg.ucd.ie/modules/yalp/reviews_i85KV7ISWS85v526DL8dFg.html',\n",
       "  'http://mlg.ucd.ie/modules/yalp/reviews_yYDu8Agm64U5qhFEdabngw.html',\n",
       "  'http://mlg.ucd.ie/modules/yalp/reviews_oE-BWbZFMQeBZQaZklXuYw.html',\n",
       "  'http://mlg.ucd.ie/modules/yalp/reviews_-NtaIhg7_yOl-d4o0VtMFw.html',\n",
       "  'http://mlg.ucd.ie/modules/yalp/reviews_s5_DMJbYJWR2XgR1HDs9PA.html',\n",
       "  'http://mlg.ucd.ie/modules/yalp/reviews__v195T_1IQacWonyTdXcyg.html',\n",
       "  'http://mlg.ucd.ie/modules/yalp/reviews_CGpmN4ZDHJSOV4MXyK9FxA.html',\n",
       "  'http://mlg.ucd.ie/modules/yalp/reviews_A1PuwtCeDuoPye_ElwIfrg.html',\n",
       "  'http://mlg.ucd.ie/modules/yalp/reviews_dloMNbqt1o5YBAq1N1lI6w.html',\n",
       "  'http://mlg.ucd.ie/modules/yalp/reviews_4B4e-0_tk7MzESWgVs7eAg.html',\n",
       "  'http://mlg.ucd.ie/modules/yalp/reviews_3QFyMR9Iz3B3UUAWAUrgxw.html',\n",
       "  'http://mlg.ucd.ie/modules/yalp/reviews_o0BtbWwcUwvNHoAPx_eDBg.html',\n",
       "  'http://mlg.ucd.ie/modules/yalp/reviews_lzLNIWu2Cj88u2QkGH4i3A.html',\n",
       "  'http://mlg.ucd.ie/modules/yalp/reviews_oBsbQlzSdK7XozGE6v1F4w.html',\n",
       "  'http://mlg.ucd.ie/modules/yalp/reviews_rhdMlNeDd5BN1Ou2EFIJOA.html',\n",
       "  'http://mlg.ucd.ie/modules/yalp/reviews_f7Fg_f9OsvHnDV9slIh_qw.html',\n",
       "  'http://mlg.ucd.ie/modules/yalp/reviews_AaFmfvnszVv1CUira_xZPA.html',\n",
       "  'http://mlg.ucd.ie/modules/yalp/reviews_gestVQlI_Bv7DN-FZkvEBw.html',\n",
       "  'http://mlg.ucd.ie/modules/yalp/reviews_c9eiZmPuSu9XRqSaw4mhUQ.html',\n",
       "  'http://mlg.ucd.ie/modules/yalp/reviews_vI36C9W73Wn46fQ6tMZngw.html']]"
      ]
     },
     "execution_count": 6,
     "metadata": {},
     "output_type": "execute_result"
    }
   ],
   "source": [
    "TwocategoriesList"
   ]
  },
  {
   "cell_type": "markdown",
   "metadata": {},
   "source": [
    "### Function \"reviewrating\" which returns all the rating and reviews of all the links from both the categories\n"
   ]
  },
  {
   "cell_type": "code",
   "execution_count": 7,
   "metadata": {},
   "outputs": [],
   "source": [
    "def reviewrating(category):   \n",
    "    rewlist =[] # list which stores all the reviews\n",
    "    rating = [] # list which stores all the ratings\n",
    "    for eachlink in category :\n",
    "        response = urllib.request.urlopen(eachlink)# read each link from the category\n",
    "        html = response.read().decode()# extract the html\n",
    "        parser = bs4.BeautifulSoup(html,\"html.parser\")\n",
    "        for rew in parser.findAll('p',class_='text'):#find all the tags with text which contain review\n",
    "            rewlist.append(rew.text)#append reviews to the list rewlist\n",
    "        for R in parser.findAll('img'):#find all the img tags which contain rating 1,2,3,4,5\n",
    "             if R.get('alt')!=None:\n",
    "                ratee = (R.get('alt')[0])\n",
    "                if int(ratee)<4:# if less than 4 append negative to the list rating,otherwise positive\n",
    "                    rating.append('Negative')\n",
    "                else:\n",
    "                    rating.append('Positive')\n",
    "    return rewlist,rating"
   ]
  },
  {
   "cell_type": "markdown",
   "metadata": {},
   "source": [
    "### Rating and reviews from Category \"Bars\""
   ]
  },
  {
   "cell_type": "code",
   "execution_count": 8,
   "metadata": {},
   "outputs": [],
   "source": [
    "REW1,RAT1 = reviewrating(Link_sublinksCat0)#Call function reviewrating and store rating and reviews in REW1 and RAT1\n"
   ]
  },
  {
   "cell_type": "markdown",
   "metadata": {},
   "source": [
    "### Rating and reviews from Category \"Health and medical\""
   ]
  },
  {
   "cell_type": "code",
   "execution_count": 9,
   "metadata": {},
   "outputs": [],
   "source": [
    "REW2,RAT2 = reviewrating(Link_sublinksCat2)#Call function reviewrating and store rating and reviews in REW2 and RAT2\n"
   ]
  },
  {
   "cell_type": "markdown",
   "metadata": {},
   "source": [
    "### Dataframe DF1 for REVIEWS and RATINGS created from lists of first category REW1,RAT1"
   ]
  },
  {
   "cell_type": "code",
   "execution_count": 10,
   "metadata": {},
   "outputs": [],
   "source": [
    "DF1= pd.DataFrame(np.column_stack([REW1, RAT1]),columns=['REVIEWS', 'RATINGS'])\n",
    "#DF1 dataframe stores reviews and ratings from 1st category"
   ]
  },
  {
   "cell_type": "markdown",
   "metadata": {},
   "source": [
    "### Dataframe DF2 for REVIEWS and RATINGS created from lists of second category REW2,RAT2"
   ]
  },
  {
   "cell_type": "code",
   "execution_count": 11,
   "metadata": {},
   "outputs": [],
   "source": [
    "DF2=pd.DataFrame(np.column_stack([REW2, RAT2]),columns=['REVIEWS', 'RATINGS'])\n",
    "#DF2 dataframe stores reviews and ratings from 2nd category"
   ]
  },
  {
   "cell_type": "markdown",
   "metadata": {},
   "source": [
    "# TASK 2(a): Numeric Representation of Data"
   ]
  },
  {
   "cell_type": "code",
   "execution_count": 12,
   "metadata": {},
   "outputs": [
    {
     "data": {
      "text/html": [
       "<div>\n",
       "<style scoped>\n",
       "    .dataframe tbody tr th:only-of-type {\n",
       "        vertical-align: middle;\n",
       "    }\n",
       "\n",
       "    .dataframe tbody tr th {\n",
       "        vertical-align: top;\n",
       "    }\n",
       "\n",
       "    .dataframe thead th {\n",
       "        text-align: right;\n",
       "    }\n",
       "</style>\n",
       "<table border=\"1\" class=\"dataframe\">\n",
       "  <thead>\n",
       "    <tr style=\"text-align: right;\">\n",
       "      <th></th>\n",
       "      <th>REVIEWS</th>\n",
       "      <th>RATINGS</th>\n",
       "      <th>Categorical_Rating</th>\n",
       "    </tr>\n",
       "  </thead>\n",
       "  <tbody>\n",
       "    <tr>\n",
       "      <th>0</th>\n",
       "      <td>It would help if the front girl don't just sit...</td>\n",
       "      <td>Negative</td>\n",
       "      <td>0</td>\n",
       "    </tr>\n",
       "    <tr>\n",
       "      <th>1</th>\n",
       "      <td>One star because that's the least amount you c...</td>\n",
       "      <td>Negative</td>\n",
       "      <td>0</td>\n",
       "    </tr>\n",
       "    <tr>\n",
       "      <th>2</th>\n",
       "      <td>Bad time today. Dirty windows, table sticky, h...</td>\n",
       "      <td>Negative</td>\n",
       "      <td>0</td>\n",
       "    </tr>\n",
       "    <tr>\n",
       "      <th>3</th>\n",
       "      <td>My second visit in the last year. Both experie...</td>\n",
       "      <td>Negative</td>\n",
       "      <td>0</td>\n",
       "    </tr>\n",
       "    <tr>\n",
       "      <th>4</th>\n",
       "      <td>Absolutely awful! Took forever to get food, fo...</td>\n",
       "      <td>Negative</td>\n",
       "      <td>0</td>\n",
       "    </tr>\n",
       "    <tr>\n",
       "      <th>5</th>\n",
       "      <td>1.wait time was 30 minutes,then we get to tabl...</td>\n",
       "      <td>Negative</td>\n",
       "      <td>0</td>\n",
       "    </tr>\n",
       "    <tr>\n",
       "      <th>6</th>\n",
       "      <td>The food was terrible and the service was even...</td>\n",
       "      <td>Negative</td>\n",
       "      <td>0</td>\n",
       "    </tr>\n",
       "    <tr>\n",
       "      <th>7</th>\n",
       "      <td>Party of six for my daughters birthday. She re...</td>\n",
       "      <td>Negative</td>\n",
       "      <td>0</td>\n",
       "    </tr>\n",
       "    <tr>\n",
       "      <th>8</th>\n",
       "      <td>I've been twice now in the last couple month, ...</td>\n",
       "      <td>Positive</td>\n",
       "      <td>1</td>\n",
       "    </tr>\n",
       "    <tr>\n",
       "      <th>9</th>\n",
       "      <td>Took my family from out of town here...never a...</td>\n",
       "      <td>Negative</td>\n",
       "      <td>0</td>\n",
       "    </tr>\n",
       "  </tbody>\n",
       "</table>\n",
       "</div>"
      ],
      "text/plain": [
       "                                             REVIEWS   RATINGS  \\\n",
       "0  It would help if the front girl don't just sit...  Negative   \n",
       "1  One star because that's the least amount you c...  Negative   \n",
       "2  Bad time today. Dirty windows, table sticky, h...  Negative   \n",
       "3  My second visit in the last year. Both experie...  Negative   \n",
       "4  Absolutely awful! Took forever to get food, fo...  Negative   \n",
       "5  1.wait time was 30 minutes,then we get to tabl...  Negative   \n",
       "6  The food was terrible and the service was even...  Negative   \n",
       "7  Party of six for my daughters birthday. She re...  Negative   \n",
       "8  I've been twice now in the last couple month, ...  Positive   \n",
       "9  Took my family from out of town here...never a...  Negative   \n",
       "\n",
       "   Categorical_Rating  \n",
       "0                   0  \n",
       "1                   0  \n",
       "2                   0  \n",
       "3                   0  \n",
       "4                   0  \n",
       "5                   0  \n",
       "6                   0  \n",
       "7                   0  \n",
       "8                   1  \n",
       "9                   0  "
      ]
     },
     "execution_count": 12,
     "metadata": {},
     "output_type": "execute_result"
    }
   ],
   "source": [
    "# Representing Data Categically usinf label encoding\n",
    "\n",
    "lb1 = LabelEncoder()\n",
    "# take Dataframe column ratings from DF1 and represent categorically\n",
    "DF1['Categorical_Rating'] = lb1.fit_transform(DF1['RATINGS']) \n",
    "\n",
    "\n",
    "lb2 = LabelEncoder()\n",
    "# take Dataframe column ratings from DF2 and represent categorically\n",
    "DF2['Categorical_Rating'] = lb2.fit_transform(DF2['RATINGS'])\n",
    "\n",
    "DF1.head(10)#show output from first 10 rows dof DF1"
   ]
  },
  {
   "cell_type": "code",
   "execution_count": 13,
   "metadata": {},
   "outputs": [
    {
     "data": {
      "text/html": [
       "<div>\n",
       "<style scoped>\n",
       "    .dataframe tbody tr th:only-of-type {\n",
       "        vertical-align: middle;\n",
       "    }\n",
       "\n",
       "    .dataframe tbody tr th {\n",
       "        vertical-align: top;\n",
       "    }\n",
       "\n",
       "    .dataframe thead th {\n",
       "        text-align: right;\n",
       "    }\n",
       "</style>\n",
       "<table border=\"1\" class=\"dataframe\">\n",
       "  <thead>\n",
       "    <tr style=\"text-align: right;\">\n",
       "      <th></th>\n",
       "      <th>REVIEWS</th>\n",
       "      <th>RATINGS</th>\n",
       "      <th>Categorical_Rating</th>\n",
       "    </tr>\n",
       "  </thead>\n",
       "  <tbody>\n",
       "    <tr>\n",
       "      <th>0</th>\n",
       "      <td>I have so many good things to say about this p...</td>\n",
       "      <td>Positive</td>\n",
       "      <td>1</td>\n",
       "    </tr>\n",
       "    <tr>\n",
       "      <th>1</th>\n",
       "      <td>I found them to be highly skilled and an exper...</td>\n",
       "      <td>Positive</td>\n",
       "      <td>1</td>\n",
       "    </tr>\n",
       "    <tr>\n",
       "      <th>2</th>\n",
       "      <td>Where do I even begin? This office has been so...</td>\n",
       "      <td>Positive</td>\n",
       "      <td>1</td>\n",
       "    </tr>\n",
       "    <tr>\n",
       "      <th>3</th>\n",
       "      <td>I went in because I had toothache and needed a...</td>\n",
       "      <td>Positive</td>\n",
       "      <td>1</td>\n",
       "    </tr>\n",
       "    <tr>\n",
       "      <th>4</th>\n",
       "      <td>Found a new dental office. This place is amazi...</td>\n",
       "      <td>Positive</td>\n",
       "      <td>1</td>\n",
       "    </tr>\n",
       "    <tr>\n",
       "      <th>5</th>\n",
       "      <td>Dr. Carlos is always on top of things, I've ne...</td>\n",
       "      <td>Positive</td>\n",
       "      <td>1</td>\n",
       "    </tr>\n",
       "    <tr>\n",
       "      <th>6</th>\n",
       "      <td>Dr. Carlos and the staff were very friendly. T...</td>\n",
       "      <td>Positive</td>\n",
       "      <td>1</td>\n",
       "    </tr>\n",
       "    <tr>\n",
       "      <th>7</th>\n",
       "      <td>Love these guys! Had a chip in my tooth and no...</td>\n",
       "      <td>Positive</td>\n",
       "      <td>1</td>\n",
       "    </tr>\n",
       "    <tr>\n",
       "      <th>8</th>\n",
       "      <td>I just found this office in Scottsdale and the...</td>\n",
       "      <td>Positive</td>\n",
       "      <td>1</td>\n",
       "    </tr>\n",
       "    <tr>\n",
       "      <th>9</th>\n",
       "      <td>Dr. Mandap has been my dentist for many years ...</td>\n",
       "      <td>Positive</td>\n",
       "      <td>1</td>\n",
       "    </tr>\n",
       "    <tr>\n",
       "      <th>10</th>\n",
       "      <td>A bit of a drive on the freeways but this plac...</td>\n",
       "      <td>Positive</td>\n",
       "      <td>1</td>\n",
       "    </tr>\n",
       "    <tr>\n",
       "      <th>11</th>\n",
       "      <td>Wow. Do not order from here. I ordered an item...</td>\n",
       "      <td>Negative</td>\n",
       "      <td>0</td>\n",
       "    </tr>\n",
       "  </tbody>\n",
       "</table>\n",
       "</div>"
      ],
      "text/plain": [
       "                                              REVIEWS   RATINGS  \\\n",
       "0   I have so many good things to say about this p...  Positive   \n",
       "1   I found them to be highly skilled and an exper...  Positive   \n",
       "2   Where do I even begin? This office has been so...  Positive   \n",
       "3   I went in because I had toothache and needed a...  Positive   \n",
       "4   Found a new dental office. This place is amazi...  Positive   \n",
       "5   Dr. Carlos is always on top of things, I've ne...  Positive   \n",
       "6   Dr. Carlos and the staff were very friendly. T...  Positive   \n",
       "7   Love these guys! Had a chip in my tooth and no...  Positive   \n",
       "8   I just found this office in Scottsdale and the...  Positive   \n",
       "9   Dr. Mandap has been my dentist for many years ...  Positive   \n",
       "10  A bit of a drive on the freeways but this plac...  Positive   \n",
       "11  Wow. Do not order from here. I ordered an item...  Negative   \n",
       "\n",
       "    Categorical_Rating  \n",
       "0                    1  \n",
       "1                    1  \n",
       "2                    1  \n",
       "3                    1  \n",
       "4                    1  \n",
       "5                    1  \n",
       "6                    1  \n",
       "7                    1  \n",
       "8                    1  \n",
       "9                    1  \n",
       "10                   1  \n",
       "11                   0  "
      ]
     },
     "execution_count": 13,
     "metadata": {},
     "output_type": "execute_result"
    }
   ],
   "source": [
    "DF2.head(12)#show output from first 10 rows dof DF1"
   ]
  },
  {
   "cell_type": "code",
   "execution_count": 14,
   "metadata": {},
   "outputs": [],
   "source": [
    "def dataframe_tfid(dataframe):\n",
    "    count_vector = CountVectorizer()\n",
    "    dataframe_count = count_vector.fit_transform(dataframe)\n",
    "    tfidf_transform = TfidfTransformer()\n",
    "    dataframe_count_tfidf = tfidf_transform.fit_transform(dataframe_count)\n",
    "    return dataframe_count_tfidf "
   ]
  },
  {
   "cell_type": "code",
   "execution_count": 15,
   "metadata": {},
   "outputs": [],
   "source": [
    "a= dataframe_tfid(DF1[\"REVIEWS\"])\n",
    "b= dataframe_tfid(DF2[\"REVIEWS\"])\n",
    "model=[\"NaiveBayes\",\"Logistic Regression\",\"DecisionTree\",\"KNN\",\"SVM\",\"RandomForest\"]\n",
    "accuracy_df1=[]\n",
    "accuracy_df2=[]\n"
   ]
  },
  {
   "cell_type": "code",
   "execution_count": 16,
   "metadata": {},
   "outputs": [],
   "source": [
    "X_train1, X_test1, y_train1, y_test1 = train_test_split(a, DF1['Categorical_Rating'],test_size=0.3 ,random_state = 0)\n",
    "X_train2, X_test2, y_train2, y_test2 = train_test_split(b, DF2['Categorical_Rating'],test_size=0.3 ,random_state = 0)\n",
    "\n"
   ]
  },
  {
   "cell_type": "code",
   "execution_count": 17,
   "metadata": {},
   "outputs": [],
   "source": [
    "def NaiveBayes(x_train,x_test,y_train,y_test):\n",
    "\n",
    "    clf = MultinomialNB()\n",
    "    clf.fit(x_train, y_train)\n",
    "    y_pred = clf.predict(x_test)\n",
    "    \n",
    "    return accuracy_score(y_test, y_pred)"
   ]
  },
  {
   "cell_type": "code",
   "execution_count": 18,
   "metadata": {},
   "outputs": [],
   "source": [
    "accuracy_df1.append(NaiveBayes(X_train1, X_test1, y_train1, y_test1))\n",
    "accuracy_df2.append(NaiveBayes(X_train2, X_test2, y_train2, y_test2))\n"
   ]
  },
  {
   "cell_type": "code",
   "execution_count": 19,
   "metadata": {},
   "outputs": [],
   "source": [
    "def log_reg(x_train,x_test,y_train,y_test):\n",
    "    clf = LogisticRegression()\n",
    "    clf.fit(x_train, y_train)\n",
    "    y_pred = clf.predict(x_test)\n",
    "    \n",
    "    return accuracy_score(y_test, y_pred)"
   ]
  },
  {
   "cell_type": "code",
   "execution_count": 20,
   "metadata": {},
   "outputs": [
    {
     "name": "stderr",
     "output_type": "stream",
     "text": [
      "/anaconda3/lib/python3.7/site-packages/sklearn/linear_model/logistic.py:433: FutureWarning: Default solver will be changed to 'lbfgs' in 0.22. Specify a solver to silence this warning.\n",
      "  FutureWarning)\n"
     ]
    }
   ],
   "source": [
    "accuracy_df1.append(log_reg(X_train1, X_test1, y_train1, y_test1))\n",
    "accuracy_df2.append(log_reg(X_train2, X_test2, y_train2, y_test2))"
   ]
  },
  {
   "cell_type": "code",
   "execution_count": 21,
   "metadata": {},
   "outputs": [],
   "source": [
    "def DecisionTree(x_train,x_test,y_train,y_test):\n",
    "    clf = DecisionTreeClassifier()\n",
    "    clf.fit(x_train, y_train)\n",
    "    y_pred = clf.predict(x_test)\n",
    "    return accuracy_score(y_test, y_pred)"
   ]
  },
  {
   "cell_type": "code",
   "execution_count": 22,
   "metadata": {},
   "outputs": [],
   "source": [
    "accuracy_df1.append(DecisionTree(X_train1, X_test1, y_train1, y_test1))\n",
    "accuracy_df2.append(DecisionTree(X_train2, X_test2, y_train2, y_test2))"
   ]
  },
  {
   "cell_type": "code",
   "execution_count": 23,
   "metadata": {},
   "outputs": [],
   "source": [
    "\n",
    "def KNN(x_train,x_test,y_train,y_test):\n",
    "    clf = KNeighborsClassifier(n_neighbors=3)\n",
    "    clf.fit(x_train, y_train)\n",
    "    y_pred = clf.predict(x_test)\n",
    "    return accuracy_score(y_test, y_pred)"
   ]
  },
  {
   "cell_type": "code",
   "execution_count": 24,
   "metadata": {},
   "outputs": [],
   "source": [
    "accuracy_df1.append(KNN(X_train1, X_test1, y_train1, y_test1))\n",
    "accuracy_df2.append(KNN(X_train2, X_test2, y_train2, y_test2))"
   ]
  },
  {
   "cell_type": "code",
   "execution_count": 25,
   "metadata": {},
   "outputs": [],
   "source": [
    "\n",
    "def SVM(x_train,x_test,y_train,y_test):\n",
    "    \n",
    "    clf = LinearSVC()\n",
    "    clf.fit(x_train, y_train)\n",
    "    y_pred = clf.predict(x_test)\n",
    "    return accuracy_score(y_test, y_pred)"
   ]
  },
  {
   "cell_type": "code",
   "execution_count": 26,
   "metadata": {},
   "outputs": [],
   "source": [
    "accuracy_df1.append(SVM(X_train1, X_test1, y_train1, y_test1))\n",
    "\n",
    "accuracy_df2.append(SVM(X_train2, X_test2, y_train2, y_test2))"
   ]
  },
  {
   "cell_type": "code",
   "execution_count": 27,
   "metadata": {},
   "outputs": [],
   "source": [
    "\n",
    "def RandomForest(x_train,x_test,y_train,y_test):\n",
    "    clf = RandomForestClassifier()\n",
    "    clf.fit(x_train, y_train)\n",
    "    y_pred = clf.predict(x_test)\n",
    "    return accuracy_score(y_test, y_pred)"
   ]
  },
  {
   "cell_type": "code",
   "execution_count": 28,
   "metadata": {},
   "outputs": [
    {
     "name": "stderr",
     "output_type": "stream",
     "text": [
      "/anaconda3/lib/python3.7/site-packages/sklearn/ensemble/forest.py:246: FutureWarning: The default value of n_estimators will change from 10 in version 0.20 to 100 in 0.22.\n",
      "  \"10 in version 0.20 to 100 in 0.22.\", FutureWarning)\n",
      "/anaconda3/lib/python3.7/site-packages/sklearn/ensemble/forest.py:246: FutureWarning: The default value of n_estimators will change from 10 in version 0.20 to 100 in 0.22.\n",
      "  \"10 in version 0.20 to 100 in 0.22.\", FutureWarning)\n"
     ]
    }
   ],
   "source": [
    "accuracy_df1.append(RandomForest(X_train1, X_test1, y_train1, y_test1))\n",
    "accuracy_df2.append(RandomForest(X_train2, X_test2, y_train2, y_test2))"
   ]
  },
  {
   "cell_type": "code",
   "execution_count": 29,
   "metadata": {},
   "outputs": [
    {
     "data": {
      "image/png": "[encoded data removed]",
      "text/plain": [
       "<Figure size 720x432 with 1 Axes>"
      ]
     },
     "metadata": {
      "needs_background": "light"
     },
     "output_type": "display_data"
    },
    {
     "name": "stdout",
     "output_type": "stream",
     "text": [
      "NaiveBayes  0.7831050228310502\n",
      "Logistic Regression  0.8356164383561644\n",
      "DecisionTree  0.6712328767123288\n",
      "KNN  0.7077625570776256\n",
      "SVM  0.8515981735159818\n",
      "RandomForest  0.7534246575342466\n",
      "\u001b[1mSVM has maximum Accuracy= 85.15981735159818 %\n"
     ]
    }
   ],
   "source": [
    "import matplotlib.pyplot as plt\n",
    "\n",
    "model=[\"NaiveBayes\",\"Logistic Regression\",\"DecisionTree\",\"KNN\",\"SVM\",\"RandomForest\"]\n",
    "\n",
    "plt.figure(figsize=(10, 6))\n",
    "plt.tick_params(direction='out', length=6, width=2, colors='r',grid_color='r', grid_alpha=0.98)\n",
    "plt.bar(model, accuracy_df1, align='center', alpha=0.7,color = 'purple',width=0.9)\n",
    "plt.xticks(model, model,rotation='60')\n",
    "plt.ylabel('Accuracy')\n",
    "plt.xlabel('Classification Algorithms')\n",
    "plt.title('Evaluation based on Accuracy of all the classification Algorithms for first Dataset')\n",
    "plt.show()\n",
    "for i in range(6):\n",
    "    print(model[i],\"\",accuracy_df1[i])\n",
    "    \n",
    "print('\\033[1m'+'SVM has maximum Accuracy=',max(accuracy_df1)*100,'%')"
   ]
  },
  {
   "cell_type": "code",
   "execution_count": 30,
   "metadata": {},
   "outputs": [
    {
     "data": {
      "image/png": "[encoded data removed]",
      "text/plain": [
       "<Figure size 432x288 with 1 Axes>"
      ]
     },
     "metadata": {
      "needs_background": "light"
     },
     "output_type": "display_data"
    },
    {
     "name": "stdout",
     "output_type": "stream",
     "text": [
      "NaiveBayes          0.7034482758620689\n",
      "Logistic Regression          0.8229885057471265\n",
      "DecisionTree          0.774712643678161\n",
      "KNN          0.8298850574712644\n",
      "SVM          0.9057471264367816\n",
      "RandomForest          0.7862068965517242\n",
      "\u001b[1mSVM has maximum Accuracy= 90.57471264367815 %\n"
     ]
    }
   ],
   "source": [
    "plt.plot(model,accuracy_df2, color='r')\n",
    "plt.xlabel('Classification Algorithms')\n",
    "plt.ylabel('Accuracy')\n",
    "plt.xticks(model, model,rotation='60')\n",
    "plt.title('Evaluation based Accuracy of all the classification Algorithms for Second Dataset')\n",
    "plt.show()\n",
    "for i in range(6):\n",
    "    print(model[i],\"        \",accuracy_df2[i])\n",
    "print('\\033[1m'+'SVM has maximum Accuracy=',max(accuracy_df2)*100,'%')"
   ]
  },
  {
   "cell_type": "code",
   "execution_count": 31,
   "metadata": {},
   "outputs": [
    {
     "name": "stderr",
     "output_type": "stream",
     "text": [
      "/anaconda3/lib/python3.7/site-packages/sklearn/linear_model/logistic.py:433: FutureWarning: Default solver will be changed to 'lbfgs' in 0.22. Specify a solver to silence this warning.\n",
      "  FutureWarning)\n",
      "/anaconda3/lib/python3.7/site-packages/sklearn/linear_model/logistic.py:433: FutureWarning: Default solver will be changed to 'lbfgs' in 0.22. Specify a solver to silence this warning.\n",
      "  FutureWarning)\n",
      "/anaconda3/lib/python3.7/site-packages/sklearn/ensemble/forest.py:246: FutureWarning: The default value of n_estimators will change from 10 in version 0.20 to 100 in 0.22.\n",
      "  \"10 in version 0.20 to 100 in 0.22.\", FutureWarning)\n",
      "/anaconda3/lib/python3.7/site-packages/sklearn/ensemble/forest.py:246: FutureWarning: The default value of n_estimators will change from 10 in version 0.20 to 100 in 0.22.\n",
      "  \"10 in version 0.20 to 100 in 0.22.\", FutureWarning)\n",
      "/anaconda3/lib/python3.7/site-packages/sklearn/ensemble/forest.py:246: FutureWarning: The default value of n_estimators will change from 10 in version 0.20 to 100 in 0.22.\n",
      "  \"10 in version 0.20 to 100 in 0.22.\", FutureWarning)\n",
      "/anaconda3/lib/python3.7/site-packages/sklearn/ensemble/forest.py:246: FutureWarning: The default value of n_estimators will change from 10 in version 0.20 to 100 in 0.22.\n",
      "  \"10 in version 0.20 to 100 in 0.22.\", FutureWarning)\n",
      "/anaconda3/lib/python3.7/site-packages/sklearn/ensemble/forest.py:246: FutureWarning: The default value of n_estimators will change from 10 in version 0.20 to 100 in 0.22.\n",
      "  \"10 in version 0.20 to 100 in 0.22.\", FutureWarning)\n",
      "/anaconda3/lib/python3.7/site-packages/sklearn/ensemble/forest.py:246: FutureWarning: The default value of n_estimators will change from 10 in version 0.20 to 100 in 0.22.\n",
      "  \"10 in version 0.20 to 100 in 0.22.\", FutureWarning)\n",
      "/anaconda3/lib/python3.7/site-packages/sklearn/ensemble/forest.py:246: FutureWarning: The default value of n_estimators will change from 10 in version 0.20 to 100 in 0.22.\n",
      "  \"10 in version 0.20 to 100 in 0.22.\", FutureWarning)\n",
      "/anaconda3/lib/python3.7/site-packages/sklearn/ensemble/forest.py:246: FutureWarning: The default value of n_estimators will change from 10 in version 0.20 to 100 in 0.22.\n",
      "  \"10 in version 0.20 to 100 in 0.22.\", FutureWarning)\n",
      "/anaconda3/lib/python3.7/site-packages/sklearn/ensemble/forest.py:246: FutureWarning: The default value of n_estimators will change from 10 in version 0.20 to 100 in 0.22.\n",
      "  \"10 in version 0.20 to 100 in 0.22.\", FutureWarning)\n",
      "/anaconda3/lib/python3.7/site-packages/sklearn/ensemble/forest.py:246: FutureWarning: The default value of n_estimators will change from 10 in version 0.20 to 100 in 0.22.\n",
      "  \"10 in version 0.20 to 100 in 0.22.\", FutureWarning)\n"
     ]
    }
   ],
   "source": [
    "clf = MultinomialNB()\n",
    "dlf = LogisticRegression()\n",
    "elf = DecisionTreeClassifier()\n",
    "flf = KNeighborsClassifier()\n",
    "glf = LinearSVC()\n",
    "hlf = RandomForestClassifier()\n",
    "cross_acc1=[]\n",
    "cross_acc2=[]\n",
    "cross_acc1.append(cross_val_score(clf, a, DF1[\"Categorical_Rating\"], scoring='accuracy', cv=5))\n",
    "cross_acc2.append(cross_val_score(clf, b, DF2[\"Categorical_Rating\"], scoring='accuracy', cv=5))\n",
    "cross_acc1.append(cross_val_score(dlf, a, DF1[\"Categorical_Rating\"], scoring='accuracy', cv=5))\n",
    "cross_acc2.append(cross_val_score(dlf, b, DF2[\"Categorical_Rating\"], scoring='accuracy', cv=5))\n",
    "cross_acc1.append(cross_val_score(elf, a, DF1[\"Categorical_Rating\"], scoring='accuracy', cv=5))\n",
    "cross_acc2.append(cross_val_score(elf, b, DF2[\"Categorical_Rating\"], scoring='accuracy', cv=5))\n",
    "cross_acc1.append(cross_val_score(flf, a, DF1[\"Categorical_Rating\"], scoring='accuracy', cv=5))\n",
    "cross_acc2.append(cross_val_score(flf, b, DF2[\"Categorical_Rating\"], scoring='accuracy', cv=5))\n",
    "cross_acc1.append(cross_val_score(glf, a, DF1[\"Categorical_Rating\"], scoring='accuracy', cv=5))\n",
    "cross_acc2.append(cross_val_score(glf, b, DF2[\"Categorical_Rating\"], scoring='accuracy', cv=5))\n",
    "cross_acc1.append(cross_val_score(hlf, a, DF1[\"Categorical_Rating\"], scoring='accuracy', cv=5))\n",
    "cross_acc2.append(cross_val_score(hlf, b, DF2[\"Categorical_Rating\"], scoring='accuracy', cv=5))"
   ]
  },
  {
   "cell_type": "code",
   "execution_count": 32,
   "metadata": {},
   "outputs": [],
   "source": [
    "#df1\n",
    "cross_acc1[0]=cross_acc1[0].mean()\n",
    "cross_acc1[1]=cross_acc1[1].mean()\n",
    "cross_acc1[2]=cross_acc1[2].mean()\n",
    "cross_acc1[3]=cross_acc1[3].mean()\n",
    "cross_acc1[4]=cross_acc1[4].mean()\n",
    "cross_acc1[5]=cross_acc1[5].mean()"
   ]
  },
  {
   "cell_type": "code",
   "execution_count": 33,
   "metadata": {},
   "outputs": [
    {
     "data": {
      "image/png": "[encoded data removed]",
      "text/plain": [
       "<Figure size 720x432 with 1 Axes>"
      ]
     },
     "metadata": {
      "needs_background": "light"
     },
     "output_type": "display_data"
    },
    {
     "name": "stdout",
     "output_type": "stream",
     "text": [
      "NaiveBayes          0.7390410958904109\n",
      "Logistic Regression          0.8287671232876711\n",
      "DecisionTree          0.7082191780821917\n",
      "KNN          0.6993150684931507\n",
      "SVM          0.858219178082192\n",
      "RandomForest          0.7684931506849315\n",
      "\u001b[1mSVM has highest score= 0.858219178082192\n"
     ]
    }
   ],
   "source": [
    "model=[\"NaiveBayes\",\"Logistic Regression\",\"DecisionTree\",\"KNN\",\"SVM\",\"RandomForest\"]\n",
    "plt.figure(figsize=(10, 6))\n",
    "plt.tick_params(direction='out', length=6, width=2, colors='r',grid_color='r', grid_alpha=0.98)\n",
    "plt.bar(model, cross_acc1, align='center', alpha=0.7,color = 'black',width=0.9)\n",
    "plt.xticks(model, model,rotation='60')\n",
    "plt.ylabel('Cross Validation Score')\n",
    "plt.xlabel('Classification Algorithms')\n",
    "plt.title('Evaluation based on Cross Validation Score of all the classification Algorithms for first Dataset')\n",
    "plt.show()\n",
    "for i in range(6):\n",
    "    print(model[i],\"        \",cross_acc1[i])\n",
    "print('\\033[1m'+'SVM has highest score=',max(cross_acc1))"
   ]
  },
  {
   "cell_type": "code",
   "execution_count": 34,
   "metadata": {},
   "outputs": [
    {
     "name": "stdout",
     "output_type": "stream",
     "text": [
      "[0.7206870146063487, 0.8634209107410765, 0.7765447701005916, 0.7717338063390807, 0.9234523433178714, 0.8220839314584494]\n"
     ]
    }
   ],
   "source": [
    "# from the accuracy and the cross validation score we get to know that for both the dataframe SVM is a better\n",
    "# algorithms as compared to others\n",
    "cross_acc2[0]=cross_acc2[0].mean()\n",
    "cross_acc2[1]=cross_acc2[1].mean()\n",
    "cross_acc2[2]=cross_acc2[2].mean()\n",
    "cross_acc2[3]=cross_acc2[3].mean()\n",
    "cross_acc2[4]=cross_acc2[4].mean()\n",
    "cross_acc2[5]=cross_acc2[5].mean()\n",
    "print(cross_acc2)"
   ]
  },
  {
   "cell_type": "code",
   "execution_count": 35,
   "metadata": {},
   "outputs": [
    {
     "data": {
      "image/png": "[encoded data removed]",
      "text/plain": [
       "<Figure size 432x288 with 1 Axes>"
      ]
     },
     "metadata": {
      "needs_background": "light"
     },
     "output_type": "display_data"
    },
    {
     "name": "stdout",
     "output_type": "stream",
     "text": [
      "NaiveBayes          0.7206870146063487\n",
      "Logistic Regression          0.8634209107410765\n",
      "DecisionTree          0.7765447701005916\n",
      "KNN          0.7717338063390807\n",
      "SVM          0.9234523433178714\n",
      "RandomForest          0.8220839314584494\n",
      "\u001b[1mSVM has Highest Cross Validation Score = 0.9234523433178714\n"
     ]
    }
   ],
   "source": [
    "plt.plot(model,accuracy_df2, color='r')\n",
    "plt.xlabel('Classification Algorithms')\n",
    "plt.ylabel('Cross Validation Score')\n",
    "plt.xticks(model, model,rotation='60')\n",
    "plt.title('Evaluation based Cross Validation Score of all the classification Algorithms for Second Dataset')\n",
    "plt.show()\n",
    "for i in range(6):\n",
    "    print(model[i],\"        \",cross_acc2[i])\n",
    "print('\\033[1m'+'SVM has Highest Cross Validation Score =',max(cross_acc2))"
   ]
  },
  {
   "cell_type": "markdown",
   "metadata": {},
   "source": [
    "# TASK 2(c) Test the predictions of the classification model using an appropriate evaluation strategy."
   ]
  },
  {
   "cell_type": "markdown",
   "metadata": {},
   "source": [
    "# Confusion Matrix for DF1 dataset"
   ]
  },
  {
   "cell_type": "code",
   "execution_count": 36,
   "metadata": {},
   "outputs": [
    {
     "data": {
      "image/png": "[encoded data removed]",
      "text/plain": [
       "<Figure size 504x504 with 2 Axes>"
      ]
     },
     "metadata": {
      "needs_background": "light"
     },
     "output_type": "display_data"
    }
   ],
   "source": [
    "\n",
    "\n",
    "\n",
    "model = LinearSVC() # selecting svm as the model as it is the best model \n",
    "\n",
    "\n",
    "# splitting the dataset in to training and test set.\n",
    "X_train, X_test, y_train, y_test = train_test_split(a, DF1['Categorical_Rating'],test_size=0.3 ,random_state = 0)\n",
    "\n",
    "\n",
    "# l has the unique values of RATING column\n",
    "l=['Negative','Positive']\n",
    "\n",
    "\n",
    "model.fit(X_train, y_train) # Fitting the X_train and y_train to the model\n",
    "y_pred = model.predict(X_test) # Putting X_test into predict method\n",
    "conf_mat = confusion_matrix(y_test, y_pred) # calulating the confusion matrix for the model\n",
    "fig, ax = plt.subplots(figsize=(7,7))  # figsize is the size of the figure\n",
    "sns.heatmap(conf_mat, annot=True, fmt='d',\n",
    "            xticklabels=l , yticklabels=l)\n",
    "plt.ylabel('Actual')\n",
    "plt.xlabel('Predicted')\n",
    "plt.title(\"Confusion Matrix\",fontsize=15)\n",
    "plt.rcParams.update({'font.size': 13})\n",
    "plt.show()"
   ]
  },
  {
   "cell_type": "markdown",
   "metadata": {},
   "source": [
    "# From the above confusion matrix we can compute the correctly classified \n",
    "# instances ( the True Positive and the False Positive) which is 112+261 = 373.\n",
    "# Therefore, the acuuracy is 373 / (112+261+31+34) = 0.8515 which is equivalent to 85.15 %"
   ]
  },
  {
   "cell_type": "code",
   "execution_count": 37,
   "metadata": {},
   "outputs": [
    {
     "name": "stdout",
     "output_type": "stream",
     "text": [
      "              precision    recall  f1-score   support\n",
      "\n",
      "    Negative       0.78      0.77      0.78       146\n",
      "    Positive       0.88      0.89      0.89       292\n",
      "\n",
      "   micro avg       0.85      0.85      0.85       438\n",
      "   macro avg       0.83      0.83      0.83       438\n",
      "weighted avg       0.85      0.85      0.85       438\n",
      "\n"
     ]
    }
   ],
   "source": [
    "# the following is the classification report which has values of various metrics like precision, recall,\n",
    "# f1-score, Support\n",
    "\n",
    "print(metrics.classification_report(y_test, y_pred, target_names=l))\n",
    "\n"
   ]
  },
  {
   "cell_type": "markdown",
   "metadata": {},
   "source": [
    "# The above is the classification report for DF1 dataset"
   ]
  },
  {
   "cell_type": "markdown",
   "metadata": {},
   "source": [
    "# Confusion Matrix for DF2 dataset"
   ]
  },
  {
   "cell_type": "code",
   "execution_count": 38,
   "metadata": {},
   "outputs": [
    {
     "data": {
      "image/png": "[encoded data removed]",
      "text/plain": [
       "<Figure size 504x504 with 2 Axes>"
      ]
     },
     "metadata": {
      "needs_background": "light"
     },
     "output_type": "display_data"
    }
   ],
   "source": [
    "\n",
    "\n",
    "\n",
    "model = LinearSVC()   # selecting svm as the model as it is the best model \n",
    "\n",
    "\n",
    "# splitting the dataset in to training and test set.\n",
    "X_train, X_test, y_train, y_test = train_test_split(b, DF2['Categorical_Rating'],test_size=0.3 ,random_state = 0)\n",
    "\n",
    "l=['Negative','Positive']\n",
    "\n",
    "# l has the unique values of RATING column\n",
    "model.fit(X_train, y_train) # Fitting the X_train and y_train to the model\n",
    "y_pred = model.predict(X_test) # Putting X_test into predict method\n",
    "conf_mat = confusion_matrix(y_test, y_pred)\n",
    "fig, ax = plt.subplots(figsize=(7,7))  # figsize is the size of the figure\n",
    "sns.heatmap(conf_mat, annot=True, fmt='d',\n",
    "            xticklabels=l , yticklabels=l)\n",
    "plt.ylabel('Actual')\n",
    "plt.xlabel('Predicted')\n",
    "plt.title(\"Confusion Matrix\",fontsize=15)\n",
    "plt.rcParams.update({'font.size': 13})\n",
    "plt.show()"
   ]
  },
  {
   "cell_type": "markdown",
   "metadata": {},
   "source": [
    "# From the above confusion matrix we can compute the correctly classified\n",
    "# instances ( the True Positive and the True Negetive) which is 101+293 = 394.\n",
    "# Therefore, the acuuracy is 394 / (101+293+12+29) = 0.905 which is equivalent to 90.5 %"
   ]
  },
  {
   "cell_type": "code",
   "execution_count": 39,
   "metadata": {},
   "outputs": [
    {
     "name": "stdout",
     "output_type": "stream",
     "text": [
      "              precision    recall  f1-score   support\n",
      "\n",
      "    Negative       0.89      0.78      0.83       130\n",
      "    Positive       0.91      0.96      0.93       305\n",
      "\n",
      "   micro avg       0.91      0.91      0.91       435\n",
      "   macro avg       0.90      0.87      0.88       435\n",
      "weighted avg       0.91      0.91      0.90       435\n",
      "\n"
     ]
    }
   ],
   "source": [
    "# the following is the classification report for dataset DF2 which has values of various metrics like precision, recall,\n",
    "# f1-score, Support\n",
    "\n",
    "print(metrics.classification_report(y_test, y_pred, target_names=l))\n"
   ]
  },
  {
   "cell_type": "markdown",
   "metadata": {},
   "source": [
    "# The above is the classification report for DF2 dataset"
   ]
  },
  {
   "cell_type": "markdown",
   "metadata": {},
   "source": []
  },
  {
   "cell_type": "markdown",
   "metadata": {},
   "source": [
    "# Task 3a: Train a classification model on the data from “Category A”, and evaluate its performance on the data from “Category B”."
   ]
  },
  {
   "cell_type": "code",
   "execution_count": 40,
   "metadata": {},
   "outputs": [
    {
     "data": {
      "text/plain": [
       "LinearSVC(C=1.0, class_weight=None, dual=True, fit_intercept=True,\n",
       "     intercept_scaling=1, loss='squared_hinge', max_iter=1000,\n",
       "     multi_class='ovr', penalty='l2', random_state=None, tol=0.0001,\n",
       "     verbose=0)"
      ]
     },
     "execution_count": 40,
     "metadata": {},
     "output_type": "execute_result"
    }
   ],
   "source": [
    "model = LinearSVC() # selecting svm as the model , as we have seen in the above section\n",
    "                    # its the best model for our data\n",
    "\n",
    "    \n",
    "# dividing the dataset into train and test data    \n",
    "X_train, X_test, y_train, y_test = train_test_split(a,DF1[\"Categorical_Rating\"],test_size=0.3 ,random_state = 0)\n",
    "\n",
    "# Training the classification model on the data from “Category A”\n",
    "model.fit(X_train, y_train) # fitting the model on X_train and y_train\n",
    "\n",
    "\n"
   ]
  },
  {
   "cell_type": "code",
   "execution_count": 41,
   "metadata": {},
   "outputs": [
    {
     "data": {
      "text/plain": [
       "(1460, 9624)"
      ]
     },
     "execution_count": 41,
     "metadata": {},
     "output_type": "execute_result"
    }
   ],
   "source": [
    "vectorizer = TfidfVectorizer()\n",
    "A = vectorizer.fit_transform(DF1[\"REVIEWS\"]).toarray()\n",
    "A.shape"
   ]
  },
  {
   "cell_type": "code",
   "execution_count": 42,
   "metadata": {},
   "outputs": [
    {
     "data": {
      "text/plain": [
       "(1450, 9624)"
      ]
     },
     "execution_count": 42,
     "metadata": {},
     "output_type": "execute_result"
    }
   ],
   "source": [
    "# transforming the Category B data so that it has the same number of features as that of Category A\n",
    "B=vectorizer.transform(DF2[\"REVIEWS\"]).toarray()\n",
    "B.shape"
   ]
  },
  {
   "cell_type": "code",
   "execution_count": 43,
   "metadata": {},
   "outputs": [
    {
     "data": {
      "text/plain": [
       "(1450,)"
      ]
     },
     "execution_count": 43,
     "metadata": {},
     "output_type": "execute_result"
    }
   ],
   "source": [
    "# evaluating the performance on the data from category B\n",
    "y_pred = model.predict(B)\n",
    "y_pred.shape"
   ]
  },
  {
   "cell_type": "code",
   "execution_count": 44,
   "metadata": {},
   "outputs": [
    {
     "name": "stdout",
     "output_type": "stream",
     "text": [
      "              precision    recall  f1-score   support\n",
      "\n",
      "    Positive       0.69      0.90      0.78       407\n",
      "    Negative       0.96      0.84      0.89      1043\n",
      "\n",
      "   micro avg       0.86      0.86      0.86      1450\n",
      "   macro avg       0.82      0.87      0.84      1450\n",
      "weighted avg       0.88      0.86      0.86      1450\n",
      "\n"
     ]
    }
   ],
   "source": [
    "# printing the classification report of the model that is trained on data from Category A and \n",
    "# then evaluated(tested) on data from Category B\n",
    "\n",
    "\n",
    "print(metrics.classification_report(DF2[\"Categorical_Rating\"], y_pred, target_names=DF2['RATINGS'].unique()))"
   ]
  },
  {
   "cell_type": "code",
   "execution_count": 45,
   "metadata": {
    "scrolled": true
   },
   "outputs": [
    {
     "data": {
      "image/png": "[encoded data removed]",
      "text/plain": [
       "<Figure size 504x504 with 2 Axes>"
      ]
     },
     "metadata": {
      "needs_background": "light"
     },
     "output_type": "display_data"
    }
   ],
   "source": [
    "\n",
    "\n",
    "\n",
    "# l has unique values of the RATINGS column\n",
    "l=['Negative','Positive']\n",
    "\n",
    "conf_mat = confusion_matrix(DF2[\"Categorical_Rating\"], y_pred) # computing the confusuion matrix\n",
    "\n",
    "fig, ax = plt.subplots(figsize=(7,7))  # figsize is the size of the figure\n",
    "sns.heatmap(conf_mat, annot=True, fmt='d',\n",
    "            xticklabels=l , yticklabels=l)\n",
    "plt.ylabel('Actual')\n",
    "plt.xlabel('Predicted')\n",
    "plt.title(\"Confusion Matrix\",fontsize=15)\n",
    "plt.rcParams.update({'font.size': 13})\n",
    "plt.show()"
   ]
  },
  {
   "cell_type": "markdown",
   "metadata": {},
   "source": [
    "# From the above confusion matrix we can compute the correctly classified instances ( the True Positive and the True Negetive) which is 101+293 = 394. Therefore, the acuuracy is (367 +875) / (367 +875+168+40) = 0.8565 which is equivalent to 85.65 % . This is the accuracy of model being trained on data from Category \"A\" and evaluated on data from Category \"B\"\n",
    "\n"
   ]
  },
  {
   "cell_type": "markdown",
   "metadata": {},
   "source": [
    "# Task 3b: Train a classification model on the data from “Category B”, and evaluate its performance on the data from “Category A”."
   ]
  },
  {
   "cell_type": "code",
   "execution_count": 46,
   "metadata": {},
   "outputs": [
    {
     "data": {
      "text/plain": [
       "LinearSVC(C=1.0, class_weight=None, dual=True, fit_intercept=True,\n",
       "     intercept_scaling=1, loss='squared_hinge', max_iter=1000,\n",
       "     multi_class='ovr', penalty='l2', random_state=None, tol=0.0001,\n",
       "     verbose=0)"
      ]
     },
     "execution_count": 46,
     "metadata": {},
     "output_type": "execute_result"
    }
   ],
   "source": [
    "model = LinearSVC() # selecting svm as the model , as we have seen in the above section\n",
    "                    # its the best model for our data\n",
    "\n",
    "\n",
    "    \n",
    "# dividing the dataset into train and test data      \n",
    "X_train, X_test, y_train, y_test = train_test_split(b,DF2[\"Categorical_Rating\"],test_size=0.3 ,random_state = 0)\n",
    "\n",
    "# Training the classification model on the data from “Category B”\n",
    "model.fit(X_train, y_train) # fitting the model on X_train and y_train\n",
    "\n",
    "\n"
   ]
  },
  {
   "cell_type": "code",
   "execution_count": 47,
   "metadata": {},
   "outputs": [
    {
     "data": {
      "text/plain": [
       "(1450, 9065)"
      ]
     },
     "execution_count": 47,
     "metadata": {},
     "output_type": "execute_result"
    }
   ],
   "source": [
    "vectorizer = TfidfVectorizer()\n",
    "B = vectorizer.fit_transform(DF2[\"REVIEWS\"]).toarray()\n",
    "\n",
    "B.shape"
   ]
  },
  {
   "cell_type": "code",
   "execution_count": 48,
   "metadata": {},
   "outputs": [
    {
     "data": {
      "text/plain": [
       "(1460, 9065)"
      ]
     },
     "execution_count": 48,
     "metadata": {},
     "output_type": "execute_result"
    }
   ],
   "source": [
    "# transforming the Category A data so that it has the same number of features as that of Category B\n",
    "A1=vectorizer.transform(DF1[\"REVIEWS\"]).toarray()\n",
    "\n",
    "A1.shape"
   ]
  },
  {
   "cell_type": "code",
   "execution_count": 49,
   "metadata": {},
   "outputs": [
    {
     "data": {
      "text/plain": [
       "(1460,)"
      ]
     },
     "execution_count": 49,
     "metadata": {},
     "output_type": "execute_result"
    }
   ],
   "source": [
    "\n",
    "# evaluating the performance on the data from category A\n",
    "y_pred = model.predict(A1)\n",
    "y_pred.shape"
   ]
  },
  {
   "cell_type": "code",
   "execution_count": 50,
   "metadata": {},
   "outputs": [
    {
     "name": "stdout",
     "output_type": "stream",
     "text": [
      "              precision    recall  f1-score   support\n",
      "\n",
      "    Negative       0.92      0.59      0.72       565\n",
      "    Positive       0.79      0.97      0.87       895\n",
      "\n",
      "   micro avg       0.82      0.82      0.82      1460\n",
      "   macro avg       0.85      0.78      0.79      1460\n",
      "weighted avg       0.84      0.82      0.81      1460\n",
      "\n"
     ]
    }
   ],
   "source": [
    "# printing the classification report of the model that is trained on data from Category B and \n",
    "# then evaluated(tested) on data from Category A\n",
    "\n",
    "print(metrics.classification_report(DF1[\"Categorical_Rating\"], y_pred, target_names=DF1['RATINGS'].unique()))"
   ]
  },
  {
   "cell_type": "code",
   "execution_count": 51,
   "metadata": {},
   "outputs": [
    {
     "name": "stdout",
     "output_type": "stream",
     "text": [
      "[[331 234]\n",
      " [ 29 866]]\n"
     ]
    },
    {
     "data": {
      "image/png": "[encoded data removed]",
      "text/plain": [
       "<Figure size 504x504 with 2 Axes>"
      ]
     },
     "metadata": {
      "needs_background": "light"
     },
     "output_type": "display_data"
    }
   ],
   "source": [
    "# l has unique values of the RATINGS column\n",
    "\n",
    "l=['Negative','Positive']\n",
    "conf_mat = confusion_matrix(DF1[\"Categorical_Rating\"], y_pred)\n",
    "print(conf_mat)\n",
    "fig, ax = plt.subplots(figsize=(7,7))  # figsize is the size of the figure\n",
    "sns.heatmap(conf_mat, annot=True, fmt='d',\n",
    "            xticklabels=l , yticklabels=l)\n",
    "plt.ylabel('Actual')\n",
    "plt.xlabel('Predicted')\n",
    "plt.title(\"Confusion Matrix\",fontsize=15)\n",
    "plt.rcParams.update({'font.size': 13})\n",
    "plt.show()"
   ]
  },
  {
   "cell_type": "markdown",
   "metadata": {},
   "source": [
    "# From the above confusion matrix we can compute the correctly classified instances ( the True Positive and the True Negetive) which is 331+866 =  1197 Therefore, the acuuracy is (331+866) / (331+866+29+234) = 0.8198 which is equivalent to 81.98 % . This is the accuracy of model being trained on data from Category \"B\" and evaluated on data from Category \"A\"\n",
    "\n"
   ]
  },
  {
   "cell_type": "code",
   "execution_count": null,
   "metadata": {},
   "outputs": [],
   "source": []
  }
 ],
 "metadata": {
  "kernelspec": {
   "display_name": "Python 3",
   "language": "python",
   "name": "python3"
  },
  "language_info": {
   "codemirror_mode": {
    "name": "ipython",
    "version": 3
   },
   "file_extension": ".py",
   "mimetype": "text/x-python",
   "name": "python",
   "nbconvert_exporter": "python",
   "pygments_lexer": "ipython3",
   "version": "3.7.4"
  }
 },
 "nbformat": 4,
 "nbformat_minor": 2
}
